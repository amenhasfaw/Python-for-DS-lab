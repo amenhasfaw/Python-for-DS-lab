{
 "cells": [
  {
   "cell_type": "markdown",
   "metadata": {},
   "source": [
    "5. Write python program to elaborate strings such as\n",
    "  a. String declaration, traversing, slicing, concatenating, and sorting in a list."
   ]
  },
  {
   "cell_type": "code",
   "execution_count": 2,
   "metadata": {},
   "outputs": [
    {
     "name": "stdout",
     "output_type": "stream",
     "text": [
      "Hello\n",
      "Hello\n",
      "Hello\n",
      "Hello, welcome to\n",
      "the world of Python\n"
     ]
    }
   ],
   "source": [
    "# all of the following are equivalent\n",
    "my_string = 'Hello'\n",
    "print(my_string)\n",
    "my_string = \"Hello\"\n",
    "print(my_string)\n",
    "my_string = '''Hello'''\n",
    "print(my_string)\n",
    "# triple quotes string can extend multiple lines\n",
    "my_string = \"\"\"Hello, welcome to\n",
    "the world of Python\"\"\"\n",
    "print(my_string)\n"
   ]
  },
  {
   "cell_type": "code",
   "execution_count": 4,
   "metadata": {},
   "outputs": [
    {
     "name": "stdout",
     "output_type": "stream",
     "text": [
      "str =  Python programing\n",
      "str[0] =  P\n",
      "str[-1] =  g\n",
      "str[1:5] =  ytho\n",
      "str[5:-2] =  n programi\n"
     ]
    }
   ],
   "source": [
    "str = 'Python programing'\n",
    "print('str = ', str)\n",
    "#first character\n",
    "print('str[0] = ', str[0])\n",
    "#last character\n",
    "print('str[-1] = ', str[-1])\n",
    "#slicing 2nd to 5th character\n",
    "print('str[1:5] = ', str[1:5])\n",
    "#slicing 6th to 2nd last character\n",
    "print('str[5:-2] = ', str[5:-2])\n"
   ]
  },
  {
   "cell_type": "code",
   "execution_count": 5,
   "metadata": {},
   "outputs": [
    {
     "name": "stdout",
     "output_type": "stream",
     "text": [
      "str1 + str2 =  HelloWorld!\n",
      "str1 * 3 = HelloHelloHello\n"
     ]
    }
   ],
   "source": [
    "str1 = 'Hello'\n",
    "str2 ='World!'\n",
    "# using +\n",
    "print('str1 + str2 = ', str1 + str2)\n",
    "# using *\n",
    "print('str1 * 3 =', str1 * 3)"
   ]
  },
  {
   "cell_type": "code",
   "execution_count": 8,
   "metadata": {},
   "outputs": [
    {
     "name": "stdout",
     "output_type": "stream",
     "text": [
      "3 letters found\n"
     ]
    }
   ],
   "source": [
    "# two string literals together\n",
    "'Hello ''World!'\n",
    "'Hello World!'\n",
    "# using parentheses\n",
    "s = ('Hello '\n",
    "'World')\n",
    "\n",
    "count = 0\n",
    "for letter in 'Hello World':\n",
    "    if(letter == 'l'):\n",
    "     count += 1\n",
    "print(count,'letters found')"
   ]
  },
  {
   "cell_type": "code",
   "execution_count": 12,
   "metadata": {},
   "outputs": [
    {
     "name": "stdout",
     "output_type": "stream",
     "text": [
      "True\n",
      "False\n"
     ]
    }
   ],
   "source": [
    "# We can test if a sub string exists within a string or not, using the keyword in.\n",
    "print('a' in 'program')\n",
    "\n",
    "print('at' not in 'battle')"
   ]
  },
  {
   "cell_type": "code",
   "execution_count": 13,
   "metadata": {},
   "outputs": [
    {
     "name": "stdout",
     "output_type": "stream",
     "text": [
      "list(enumerate(str) =  [(0, 'c'), (1, 'o'), (2, 'l'), (3, 'd')]\n",
      "len(str) =  4\n"
     ]
    }
   ],
   "source": [
    "# Similarly, len() returns the length (number of characters) of the string.\n",
    "str = 'cold'\n",
    "# enumerate()\n",
    "list_enumerate = list(enumerate(str))\n",
    "print('list(enumerate(str) = ', list_enumerate)\n",
    "#character count\n",
    "print('len(str) = ', len(str))\n"
   ]
  },
  {
   "cell_type": "code",
   "execution_count": 17,
   "metadata": {},
   "outputs": [
    {
     "name": "stdout",
     "output_type": "stream",
     "text": [
      "He said, \"What's there?\"\n",
      "He said, \"What's there?\"\n",
      "He said, \"What's there?\"\n"
     ]
    }
   ],
   "source": [
    "#Python String Formatting\n",
    "#>>> print(\"He said, \"What's there?\"\")\n",
    "#SyntaxError: invalid syntax\n",
    "#>>> print('He said, \"What's there?\"')\n",
    "#SyntaxError: invalid syntax\n",
    "# using triple quotes\n",
    "print('''He said, \"What's there?\"''')\n",
    "# escaping single quotes\n",
    "print('He said, \"What\\'s there?\"')\n",
    "# escaping double quotes\n",
    "print(\"He said, \\\"What's there?\\\"\")\n"
   ]
  },
  {
   "cell_type": "code",
   "execution_count": 21,
   "metadata": {},
   "outputs": [
    {
     "name": "stdout",
     "output_type": "stream",
     "text": [
      "This is a \n",
      "good example\n",
      "This is a \\ngood example\n"
     ]
    }
   ],
   "source": [
    "#Raw String to ignore escape sequence\n",
    "print(\"This is a \\ngood example\")\n",
    "print(r\"This is a \\ngood example\")"
   ]
  },
  {
   "cell_type": "code",
   "execution_count": 23,
   "metadata": {},
   "outputs": [
    {
     "name": "stdout",
     "output_type": "stream",
     "text": [
      "Binary representation of 12 is 1100\n",
      "Exponent representation: 1.566345e+03\n",
      "One third is: 0.333\n",
      "|butter    |  bread   |       jam|\n"
     ]
    }
   ],
   "source": [
    "# formatting integers\n",
    "print(\"Binary representation of {0} is {0:b}\".format(12))\n",
    "# formatting floats\n",
    "print(\"Exponent representation: {0:e}\".format(1566.345))\n",
    "# round off\n",
    "print(\"One third is: {0:.3f}\".format(1/3))\n",
    "# string alignment\n",
    "print(\"|{:<10}|{:^10}|{:>10}|\".format('butter','bread','jam'))"
   ]
  },
  {
   "cell_type": "code",
   "execution_count": 26,
   "metadata": {},
   "outputs": [
    {
     "name": "stdout",
     "output_type": "stream",
     "text": [
      "Sorted list: [(1, 3), (2, 2), (3, 4), (4, 1)]\n"
     ]
    }
   ],
   "source": [
    "# random list\n",
    "random = [(2, 2), (3, 4), (4, 1), (1, 3)]\n",
    "# sort list with key\n",
    "sortedList = sorted(random)\n",
    "# print list\n",
    "print('Sorted list:', sortedList)"
   ]
  },
  {
   "cell_type": "markdown",
   "metadata": {},
   "source": [
    "b. To check whether a string is palindrome or not; to remove punctuations from a\n",
    "string."
   ]
  },
  {
   "cell_type": "code",
   "execution_count": 31,
   "metadata": {},
   "outputs": [
    {
     "name": "stdout",
     "output_type": "stream",
     "text": [
      "madamadam  is palindrome\n"
     ]
    }
   ],
   "source": [
    "my_str=input(\"Enter the string:\")\n",
    "# make it suitable for caseless comparison\n",
    "my_str = my_str.casefold()\n",
    "# reverse the string\n",
    "rev_str = reversed(my_str)\n",
    "# check if the string is equal to its reverse\n",
    "if list(my_str) == list(rev_str):\n",
    "    print(my_str,\" is palindrome\")\n",
    "else:\n",
    "    print(my_str,\" is not palindrome\")"
   ]
  },
  {
   "cell_type": "code",
   "execution_count": 32,
   "metadata": {},
   "outputs": [
    {
     "name": "stdout",
     "output_type": "stream",
     "text": [
      "Hello he said and went\n"
     ]
    }
   ],
   "source": [
    "# define punctuation\n",
    "punctuations = '''!()-[]{};:\"'\\,<>./?@#$%ˆ&*_˜'''\n",
    "my_str = \"Hello!!!, he said ---and went.\"\n",
    "# To take input from the user\n",
    "# my_str = input(\"Enter a string: \")\n",
    "# remove punctuation from the string\n",
    "no_punct = \"\"\n",
    "for char in my_str:\n",
    "    if char not in punctuations:\n",
    "        no_punct = no_punct + char\n",
    "\n",
    "# display the unpunctuated string\n",
    "print(no_punct)"
   ]
  }
 ],
 "metadata": {
  "kernelspec": {
   "display_name": "Python 3.10.7 64-bit",
   "language": "python",
   "name": "python3"
  },
  "language_info": {
   "codemirror_mode": {
    "name": "ipython",
    "version": 3
   },
   "file_extension": ".py",
   "mimetype": "text/x-python",
   "name": "python",
   "nbconvert_exporter": "python",
   "pygments_lexer": "ipython3",
   "version": "3.10.7"
  },
  "orig_nbformat": 4,
  "vscode": {
   "interpreter": {
    "hash": "aee8b7b246df8f9039afb4144a1f6fd8d2ca17a180786b69acc140d282b71a49"
   }
  }
 },
 "nbformat": 4,
 "nbformat_minor": 2
}
