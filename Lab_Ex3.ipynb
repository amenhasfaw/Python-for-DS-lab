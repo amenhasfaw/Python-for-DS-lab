{
 "cells": [
  {
   "cell_type": "markdown",
   "metadata": {},
   "source": [
    "3. Write a python program to:\n",
    " A) To print all prime number in a series(between N and M)"
   ]
  },
  {
   "cell_type": "code",
   "execution_count": 9,
   "metadata": {},
   "outputs": [
    {
     "name": "stdout",
     "output_type": "stream",
     "text": [
      "PRIME NUMBER BETWEEN 1 and 20 are: \n",
      "2\n",
      "3\n",
      "5\n",
      "7\n",
      "11\n",
      "13\n",
      "17\n",
      "19\n"
     ]
    }
   ],
   "source": [
    "lower = int(input(\"Input lower bound: \"))\n",
    "higher = int(input(\"Input higher bound: \"))\n",
    "\n",
    "print(\"PRIME NUMBER BETWEEN\" , lower , \"and\" , higher , \"are: \")\n",
    "\n",
    "for x in range(lower, higher + 1):\n",
    "    if x > 1:\n",
    "        for i in range(2,x):\n",
    "            if(x % i) == 0:\n",
    "                break\n",
    "        else:\n",
    "            print(x)"
   ]
  },
  {
   "cell_type": "markdown",
   "metadata": {},
   "source": [
    "b. To find largest among three numbers, input by user"
   ]
  },
  {
   "cell_type": "code",
   "execution_count": 9,
   "metadata": {},
   "outputs": [
    {
     "name": "stdout",
     "output_type": "stream",
     "text": [
      "The greatest number is:  4\n"
     ]
    }
   ],
   "source": [
    "x = int(input(\"Enter first number: \"))\n",
    "y = int(input(\"Enter second number: \"))\n",
    "z = int(input(\"Enter third number: \"))\n",
    "\n",
    "\n",
    "def compare(a,b,c):\n",
    "    if (a >= b) and (a >= c):\n",
    "        return a\n",
    "    elif (b >= a) and (b >= c):\n",
    "        return b\n",
    "    elif (c>=a) and (c>=b):\n",
    "        return c\n",
    "\n",
    "\n",
    "print(\"The greatest number is: \", compare(x,y,z) )\n"
   ]
  },
  {
   "cell_type": "markdown",
   "metadata": {},
   "source": [
    "c. To find HCF for two numbers, input by user"
   ]
  },
  {
   "cell_type": "code",
   "execution_count": 16,
   "metadata": {},
   "outputs": [
    {
     "name": "stdout",
     "output_type": "stream",
     "text": [
      "HCF of numbers is equal to:  15\n"
     ]
    }
   ],
   "source": [
    "x = int(input(\"Enter first number: \"))\n",
    "y = int(input(\"Enter second number: \"))\n",
    "\n",
    "def hcf(x,y):\n",
    "    if(x>y):\n",
    "        smaller = y\n",
    "    else:\n",
    "        smaller = x\n",
    "\n",
    "\n",
    "    for i in range(1,smaller):\n",
    "        if(x%i == 0) and (y%i == 0):\n",
    "            hcf = i\n",
    "\n",
    "    return hcf\n",
    "\n",
    "\n",
    "print(\"HCF of numbers is equal to: \", hcf(x,y))"
   ]
  }
 ],
 "metadata": {
  "kernelspec": {
   "display_name": "Python 3.10.7 64-bit",
   "language": "python",
   "name": "python3"
  },
  "language_info": {
   "codemirror_mode": {
    "name": "ipython",
    "version": 3
   },
   "file_extension": ".py",
   "mimetype": "text/x-python",
   "name": "python",
   "nbconvert_exporter": "python",
   "pygments_lexer": "ipython3",
   "version": "3.10.7"
  },
  "orig_nbformat": 4,
  "vscode": {
   "interpreter": {
    "hash": "aee8b7b246df8f9039afb4144a1f6fd8d2ca17a180786b69acc140d282b71a49"
   }
  }
 },
 "nbformat": 4,
 "nbformat_minor": 2
}
