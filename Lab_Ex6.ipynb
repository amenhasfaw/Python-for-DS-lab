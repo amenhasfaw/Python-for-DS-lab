{
 "cells": [
  {
   "cell_type": "markdown",
   "metadata": {},
   "source": [
    "6. Write python program:"
   ]
  },
  {
   "cell_type": "markdown",
   "metadata": {},
   "source": [
    "a. To elaborate lists with the operations such as creating, navigating, slicing, adding or\n",
    "removing elements, etc."
   ]
  },
  {
   "cell_type": "code",
   "execution_count": 4,
   "metadata": {},
   "outputs": [],
   "source": [
    "#Creating a list:\n",
    "\n",
    "# empty list\n",
    "my_list = []\n",
    "# list of integers\n",
    "my_list = [1, 2, 3]\n",
    "# list with mixed datatypes\n",
    "my_list = [1, 'Hello', 3.4]"
   ]
  },
  {
   "cell_type": "code",
   "execution_count": 5,
   "metadata": {},
   "outputs": [
    {
     "name": "stdout",
     "output_type": "stream",
     "text": [
      "p\n",
      "o\n",
      "e\n",
      "a\n",
      "5\n"
     ]
    }
   ],
   "source": [
    "#Access elements from a list:\n",
    "\n",
    "my_list =['p','r','o','b','e']\n",
    "\n",
    "print(my_list[0])\n",
    "\n",
    "print(my_list[2])\n",
    "\n",
    "print(my_list[4])\n",
    "\n",
    "# my_list[4.0]\n",
    "# Error! Only integer can be used for indexing\n",
    "\n",
    "# Nested List\n",
    "n_list = ['Happy', [2,0,1,5]]\n",
    "# Nested indexing\n",
    "print(n_list[0][1])\n",
    "print(n_list[1][3])"
   ]
  },
  {
   "cell_type": "code",
   "execution_count": 6,
   "metadata": {},
   "outputs": [
    {
     "name": "stdout",
     "output_type": "stream",
     "text": [
      "['o', 'g', 'r']\n",
      "['p', 'r', 'o', 'g', 'r', 'a']\n",
      "['a', 'm', 'm', 'i', 'n', 'g']\n",
      "['p', 'r', 'o', 'g', 'r', 'a', 'm', 'm', 'i', 'n', 'g']\n"
     ]
    }
   ],
   "source": [
    "#Slicing lists in Python:\n",
    "\n",
    "my_list = ['p','r','o','g','r','a','m','m','i','n','g']\n",
    "# elements 3rd to 5th\n",
    "print(my_list[2:5])\n",
    "# elements beginning to 4th\n",
    "print(my_list[:-5])\n",
    "# elements 6th to end\n",
    "print(my_list[5:])\n",
    "# elements beginning to end\n",
    "print(my_list[:])"
   ]
  },
  {
   "cell_type": "code",
   "execution_count": 9,
   "metadata": {},
   "outputs": [
    {
     "name": "stdout",
     "output_type": "stream",
     "text": [
      "[1, 4, 6, 8]\n",
      "[1, 3, 5, 7]\n",
      "[1, 3, 5, 7]\n",
      "[1, 3, 5, 7, 9, 11, 13]\n"
     ]
    }
   ],
   "source": [
    "#To add elements to a list:\n",
    "\n",
    "odd = [2, 4, 6, 8]\n",
    "# change the 1st item\n",
    "odd[0] = 1\n",
    "print(odd)\n",
    "# change 2nd to 4th items\n",
    "odd[1:4] = [3, 5, 7]\n",
    "print(odd)\n",
    "\n",
    "\n",
    "odd = [1, 3, 5]\n",
    "odd.append(7)\n",
    "print(odd)\n",
    "odd.extend([9, 11, 13])\n",
    "print(odd)\n"
   ]
  },
  {
   "cell_type": "code",
   "execution_count": 8,
   "metadata": {},
   "outputs": [
    {
     "name": "stdout",
     "output_type": "stream",
     "text": [
      "['p', 'r', 'b', 'l', 'e', 'm']\n",
      "['p', 'm']\n"
     ]
    },
    {
     "ename": "NameError",
     "evalue": "name 'my_list' is not defined",
     "output_type": "error",
     "traceback": [
      "\u001b[0;31m---------------------------------------------------------------------------\u001b[0m",
      "\u001b[0;31mNameError\u001b[0m                                 Traceback (most recent call last)",
      "Cell \u001b[0;32mIn [8], line 12\u001b[0m\n\u001b[1;32m     10\u001b[0m \u001b[39m# delete entire list\u001b[39;00m\n\u001b[1;32m     11\u001b[0m \u001b[39mdel\u001b[39;00m my_list\n\u001b[0;32m---> 12\u001b[0m \u001b[39mprint\u001b[39m(my_list)\n",
      "\u001b[0;31mNameError\u001b[0m: name 'my_list' is not defined"
     ]
    }
   ],
   "source": [
    "#Deleting or removing elements from a list:\n",
    "\n",
    "my_list = ['p','r','o','b','l','e','m']\n",
    "# delete one item\n",
    "del my_list[2]\n",
    "print(my_list)\n",
    "# delete multiple items\n",
    "del my_list[1:5]\n",
    "print(my_list)\n",
    "# delete entire list\n",
    "del my_list\n",
    "print(my_list)\n",
    "# Error: List not defined\n"
   ]
  },
  {
   "cell_type": "markdown",
   "metadata": {},
   "source": [
    "b. To elaborate tuples with the operations as in above assignment."
   ]
  },
  {
   "cell_type": "code",
   "execution_count": 11,
   "metadata": {},
   "outputs": [
    {
     "name": "stdout",
     "output_type": "stream",
     "text": [
      "()\n",
      "('python', 'programming')\n",
      "('python', 'programming')\n"
     ]
    }
   ],
   "source": [
    "#Creating Tuples:\n",
    "\n",
    "# An empty tuple\n",
    "empty_tup = ()\n",
    "print (empty_tup)\n",
    "# Creating non-empty tuples\n",
    "# Method1\n",
    "tup = 'python', 'programming'\n",
    "print(tup)\n",
    "# Method2\n",
    "tup = ('python', 'programming')\n",
    "print(tup)"
   ]
  },
  {
   "cell_type": "code",
   "execution_count": 12,
   "metadata": {},
   "outputs": [
    {
     "name": "stdout",
     "output_type": "stream",
     "text": [
      "(0, 1, 2, 3, 'python', 'programming')\n"
     ]
    }
   ],
   "source": [
    "#Concatenation of Tuples:\n",
    "\n",
    "tuple1 = (0, 1, 2, 3)\n",
    "tuple2 = ('python', 'programming')\n",
    "# Concatenating above two\n",
    "print(tuple1 + tuple2)"
   ]
  },
  {
   "cell_type": "code",
   "execution_count": 13,
   "metadata": {},
   "outputs": [
    {
     "name": "stdout",
     "output_type": "stream",
     "text": [
      "((0, 1, 2, 3), ('python', 'programming'))\n"
     ]
    }
   ],
   "source": [
    "#Nesting of Tuples:\n",
    "\n",
    "tuple1 = (0, 1, 2, 3)\n",
    "tuple2 = ('python', 'programming')\n",
    "tuple3 = (tuple1, tuple2)\n",
    "print(tuple3)"
   ]
  },
  {
   "cell_type": "code",
   "execution_count": 14,
   "metadata": {},
   "outputs": [
    {
     "name": "stdout",
     "output_type": "stream",
     "text": [
      "(1, 2, 3)\n",
      "(3, 2, 1, 0)\n",
      "(2, 3)\n"
     ]
    }
   ],
   "source": [
    "#Slicing in Tuples:\n",
    "\n",
    "tuple1 = (0 ,1, 2, 3)\n",
    "print(tuple1[1:])\n",
    "print(tuple1[::-1])\n",
    "print(tuple1[2:4])"
   ]
  },
  {
   "cell_type": "code",
   "execution_count": 15,
   "metadata": {},
   "outputs": [
    {
     "ename": "NameError",
     "evalue": "name 'tuple3' is not defined",
     "output_type": "error",
     "traceback": [
      "\u001b[0;31m---------------------------------------------------------------------------\u001b[0m",
      "\u001b[0;31mNameError\u001b[0m                                 Traceback (most recent call last)",
      "Cell \u001b[0;32mIn [15], line 5\u001b[0m\n\u001b[1;32m      3\u001b[0m tuple3 \u001b[39m=\u001b[39m ( \u001b[39m0\u001b[39m, \u001b[39m1\u001b[39m)\n\u001b[1;32m      4\u001b[0m \u001b[39mdel\u001b[39;00m tuple3\n\u001b[0;32m----> 5\u001b[0m \u001b[39mprint\u001b[39m(tuple3)\n",
      "\u001b[0;31mNameError\u001b[0m: name 'tuple3' is not defined"
     ]
    }
   ],
   "source": [
    "#Deleting a Tuple:\n",
    "\n",
    "tuple3 = ( 0, 1)\n",
    "del tuple3\n",
    "print(tuple3)"
   ]
  },
  {
   "cell_type": "markdown",
   "metadata": {},
   "source": [
    "c. To elaborate dictionaries with the operations such as given above."
   ]
  },
  {
   "cell_type": "code",
   "execution_count": 17,
   "metadata": {},
   "outputs": [],
   "source": [
    "#Creating a dictionary:\n",
    "\n",
    "# empty dictionary\n",
    "my_dict ={}\n",
    "# dictionary with integer keys\n",
    "my_dict ={1:'apple',2:'ball'}\n",
    "# dictionary with mixed keys\n",
    "my_dict ={'name':'John',1:[2,4,3]}\n",
    "# using dict()\n",
    "my_dict = dict({1:'apple',2:'ball'})\n",
    "# from sequence having each item as a pair\n",
    "my_dict = dict([(1,'apple'),(2,'ball')])"
   ]
  },
  {
   "cell_type": "code",
   "execution_count": 20,
   "metadata": {},
   "outputs": [
    {
     "name": "stdout",
     "output_type": "stream",
     "text": [
      "Jack\n",
      "26\n"
     ]
    }
   ],
   "source": [
    "#Accessing elements from a dictionary:\n",
    "my_dict = {'name':'Jack', 'age': 26}\n",
    "print(my_dict['name'])\n",
    "print(my_dict.get('age'))\n",
    "\n",
    "# Trying to access keys which doesn't exist throws error\n",
    "# my_dict.get('address')\n",
    "# my_dict['address']"
   ]
  },
  {
   "cell_type": "code",
   "execution_count": 22,
   "metadata": {},
   "outputs": [
    {
     "name": "stdout",
     "output_type": "stream",
     "text": [
      "{'name': 'Jack', 'age': 27}\n",
      "{'name': 'Jack', 'age': 27, 'address': 'Bangalore'}\n"
     ]
    }
   ],
   "source": [
    "#To change or add elements in a dictionary:\n",
    "\n",
    "my_dict = {'name':'Jack', 'age': 26}\n",
    "# update value\n",
    "my_dict['age'] = 27\n",
    "print(my_dict)\n",
    "# add item\n",
    "my_dict['address'] = 'Bangalore'\n",
    "print(my_dict)"
   ]
  },
  {
   "cell_type": "code",
   "execution_count": 26,
   "metadata": {},
   "outputs": [
    {
     "name": "stdout",
     "output_type": "stream",
     "text": [
      "16\n",
      "{1: 1, 2: 4, 3: 9, 5: 25}\n",
      "(5, 25)\n",
      "{1: 1, 2: 4, 3: 9}\n",
      "{1: 1, 2: 4}\n",
      "{}\n"
     ]
    }
   ],
   "source": [
    "#To delete or remove elements from a dictionary:\n",
    "\n",
    "# create a dictionary\n",
    "squares = {1:1, 2:4, 3:9, 4:16, 5:25}\n",
    "# remove a particular item\n",
    "print(squares.pop(4))\n",
    "print(squares)\n",
    "# remove an arbitrary item\n",
    "print(squares.popitem())\n",
    "print(squares)\n",
    "# delete a particular item\n",
    "del squares[3]\n",
    "print(squares)\n",
    "# remove all items\n",
    "squares.clear()\n",
    "print(squares)\n",
    "# delete the dictionary itself\n",
    "del squares"
   ]
  }
 ],
 "metadata": {
  "kernelspec": {
   "display_name": "Python 3.10.7 64-bit",
   "language": "python",
   "name": "python3"
  },
  "language_info": {
   "codemirror_mode": {
    "name": "ipython",
    "version": 3
   },
   "file_extension": ".py",
   "mimetype": "text/x-python",
   "name": "python",
   "nbconvert_exporter": "python",
   "pygments_lexer": "ipython3",
   "version": "3.10.7"
  },
  "orig_nbformat": 4,
  "vscode": {
   "interpreter": {
    "hash": "aee8b7b246df8f9039afb4144a1f6fd8d2ca17a180786b69acc140d282b71a49"
   }
  }
 },
 "nbformat": 4,
 "nbformat_minor": 2
}
