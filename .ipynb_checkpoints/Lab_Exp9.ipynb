{
 "cells": [
  {
   "cell_type": "code",
   "execution_count": 8,
   "id": "ad5ce23e",
   "metadata": {},
   "outputs": [
    {
     "name": "stdout",
     "output_type": "stream",
     "text": [
      "[[2 1 5 4]\n",
      " [3 4 7 8]\n",
      " [8 6 0 3]]\n",
      "\n",
      "Original array\n",
      "[11 12 13 14 15 16 17 18 19 20 21 22 23 24 25 26 27 28 29 30 31 32 33 34\n",
      " 35 36 37 38 39]\n",
      "\n",
      "\n",
      "New array\n",
      "[16 18 22 24 26 28 32 34 36 38]\n",
      "\n",
      "[[0. 1. 0. 0.]\n",
      " [1. 0. 0. 0.]\n",
      " [0. 0. 0. 1.]]\n"
     ]
    }
   ],
   "source": [
    "import numpy as np\n",
    "#initialize arrays\n",
    "A = np.array([2, 1, 5, 4])\n",
    "B = np.array([3, 4, 7, 8])\n",
    "C = np.array([8, 6, 0, 3])\n",
    "#vertically stack arrays\n",
    "output = np.vstack((A, B, C))\n",
    "print(output)\n",
    "\n",
    "print()\n",
    "\n",
    "arr = np.array([x for x in range(11, 40)])\n",
    "print(\"Original array\")\n",
    "print(arr)\n",
    "\n",
    "print()\n",
    "\n",
    "\n",
    "# using lambda to apply condition\n",
    "new_arr = list(filter(lambda x: x > 15 and x % 2 == 0 and x % 10 != 0, arr))\n",
    "# Converting new list into numpy array\n",
    "new_arr = np.array(new_arr)\n",
    "print()\n",
    "print(\"New array\")\n",
    "print(new_arr)\n",
    "\n",
    "a = np.array([1, 0, 3])\n",
    "b = np.zeros((a.size, a.max()+1))\n",
    "b[np.arange(a.size),a] = 1\n",
    "\n",
    "print()\n",
    "print(b)"
   ]
  },
  {
   "cell_type": "code",
   "execution_count": null,
   "id": "53b2fe24",
   "metadata": {},
   "outputs": [],
   "source": []
  }
 ],
 "metadata": {
  "kernelspec": {
   "display_name": "Python 3 (ipykernel)",
   "language": "python",
   "name": "python3"
  },
  "language_info": {
   "codemirror_mode": {
    "name": "ipython",
    "version": 3
   },
   "file_extension": ".py",
   "mimetype": "text/x-python",
   "name": "python",
   "nbconvert_exporter": "python",
   "pygments_lexer": "ipython3",
   "version": "3.9.13"
  }
 },
 "nbformat": 4,
 "nbformat_minor": 5
}
