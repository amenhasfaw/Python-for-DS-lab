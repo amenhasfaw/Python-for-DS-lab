{
 "cells": [
  {
   "cell_type": "markdown",
   "metadata": {},
   "source": [
    "4.Write python program\n",
    "\n",
    "  a. To shuffle a deck of cards using module random and draw 8 cards"
   ]
  },
  {
   "cell_type": "code",
   "execution_count": 2,
   "metadata": {},
   "outputs": [
    {
     "name": "stdout",
     "output_type": "stream",
     "text": [
      "Our obtained cards are: \n",
      "1 of Cub\n",
      "9 of Heart\n",
      "2 of Diamond\n",
      "10 of Cub\n",
      "4 of Heart\n",
      "5 of Spade\n",
      "12 of Heart\n",
      "3 of Diamond\n"
     ]
    }
   ],
   "source": [
    "# import modules\n",
    "import itertools, random\n",
    "# collect a deck of cards\n",
    "deck = list(itertools.product(range(1,14),['Spade','Heart','Diamond','Cub']))\n",
    "# shuffle the cards\n",
    "random.shuffle(deck)\n",
    "# draw eight cards\n",
    "print('Our obtained cards are: ')\n",
    "for i in range(8):\n",
    "    print(deck[i][0], 'of', deck[i][1])"
   ]
  },
  {
   "cell_type": "markdown",
   "metadata": {},
   "source": [
    "b. To display calendar of selected month and year by a user"
   ]
  },
  {
   "cell_type": "code",
   "execution_count": 5,
   "metadata": {},
   "outputs": [
    {
     "name": "stdout",
     "output_type": "stream",
     "text": [
      "   December 2000\n",
      "Mo Tu We Th Fr Sa Su\n",
      "             1  2  3\n",
      " 4  5  6  7  8  9 10\n",
      "11 12 13 14 15 16 17\n",
      "18 19 20 21 22 23 24\n",
      "25 26 27 28 29 30 31\n",
      "\n"
     ]
    }
   ],
   "source": [
    "# import module\n",
    "import calendar\n",
    "# To ask month and year from the user\n",
    "yy = int(input('Enter year: '))\n",
    "mm = int(input('Enter month: '))\n",
    "# display the calendar\n",
    "print(calendar.month(yy, mm))"
   ]
  },
  {
   "cell_type": "markdown",
   "metadata": {},
   "source": [
    "c. To solve the quadratic equation ax**2 + bx + c = 0."
   ]
  },
  {
   "cell_type": "code",
   "execution_count": 6,
   "metadata": {},
   "outputs": [
    {
     "name": "stdout",
     "output_type": "stream",
     "text": [
      "The roots are (-0.6666666666666666-1.1055415967851332j) and (-0.6666666666666666+1.1055415967851332j)\n"
     ]
    }
   ],
   "source": [
    "# import complex math module\n",
    "import cmath\n",
    "# To take coefficient input from the users\n",
    "a = float(input('Enter a: '))\n",
    "b = float(input('Enter b: '))\n",
    "c = float(input('Enter c: '))\n",
    "# calculate the discriminant\n",
    "d = (b**2) - (4*a*c)\n",
    "# find two solutions\n",
    "sol1 = (-b-cmath.sqrt(d))/(2*a)\n",
    "sol2 = (-b+cmath.sqrt(d))/(2*a)\n",
    "print('The roots are {0} and {1}'.format(sol1,sol2))"
   ]
  }
 ],
 "metadata": {
  "kernelspec": {
   "display_name": "Python 3.10.7 64-bit",
   "language": "python",
   "name": "python3"
  },
  "language_info": {
   "codemirror_mode": {
    "name": "ipython",
    "version": 3
   },
   "file_extension": ".py",
   "mimetype": "text/x-python",
   "name": "python",
   "nbconvert_exporter": "python",
   "pygments_lexer": "ipython3",
   "version": "3.10.7"
  },
  "orig_nbformat": 4,
  "vscode": {
   "interpreter": {
    "hash": "aee8b7b246df8f9039afb4144a1f6fd8d2ca17a180786b69acc140d282b71a49"
   }
  }
 },
 "nbformat": 4,
 "nbformat_minor": 2
}
