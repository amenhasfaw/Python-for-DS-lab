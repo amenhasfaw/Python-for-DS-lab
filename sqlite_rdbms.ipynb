{
 "cells": [
  {
   "cell_type": "code",
   "execution_count": 9,
   "metadata": {},
   "outputs": [
    {
     "name": "stdout",
     "output_type": "stream",
     "text": [
      "SQLite version: 3.40.0\n",
      "Opened database successfully\n"
     ]
    }
   ],
   "source": [
    "#Connecting to a Database\n",
    "\n",
    "import sqlite3\n",
    "conn = sqlite3.connect('data_science.sqlite')\n",
    "cursor = conn.cursor()\n",
    "\n",
    "cursor.execute('SELECT SQLITE_VERSION()')\n",
    "data = cursor.fetchone()\n",
    "print(\"SQLite version: %s\" % data) \n",
    "print(\"Opened database successfully\")"
   ]
  },
  {
   "cell_type": "code",
   "execution_count": 2,
   "metadata": {},
   "outputs": [
    {
     "name": "stdout",
     "output_type": "stream",
     "text": [
      "Collecting PyMySQL\n",
      "  Downloading PyMySQL-1.0.2-py3-none-any.whl (43 kB)\n",
      "\u001b[2K     \u001b[90m━━━━━━━━━━━━━━━━━━━━━━━━━━━━━━━━━━━━━━━\u001b[0m \u001b[32m43.8/43.8 kB\u001b[0m \u001b[31m639.0 kB/s\u001b[0m eta \u001b[36m0:00:00\u001b[0m \u001b[36m0:00:01\u001b[0m\n",
      "\u001b[?25hInstalling collected packages: PyMySQL\n",
      "Successfully installed PyMySQL-1.0.2\n"
     ]
    }
   ],
   "source": [
    "!pip install PyMySQL"
   ]
  },
  {
   "cell_type": "code",
   "execution_count": 3,
   "metadata": {},
   "outputs": [
    {
     "name": "stdout",
     "output_type": "stream",
     "text": [
      "Opened database successfully\n"
     ]
    }
   ],
   "source": [
    "#Connecting to a Database\n",
    "\n",
    "import sqlite3\n",
    "conn = sqlite3.connect('data_science.sqlite')\n",
    "cursor = conn.cursor()\n",
    "\n",
    "print(\"Opened database successfully\")"
   ]
  },
  {
   "cell_type": "code",
   "execution_count": 4,
   "metadata": {},
   "outputs": [],
   "source": [
    "#Creating a Table\n",
    "\n",
    "cursor.execute('''CREATE TABLE STUDENT101\n",
    "         (ID INT PRIMARY KEY     NOT NULL,\n",
    "         NAME           TEXT    NOT NULL,\n",
    "         AGE            INT     NOT NULL,\n",
    "         ADDRESS        CHAR(50),\n",
    "         MARKS          INT);''')\n",
    "cursor.close()"
   ]
  },
  {
   "cell_type": "code",
   "execution_count": 7,
   "metadata": {},
   "outputs": [],
   "source": [
    "#INSERTING records in the TABLE\n",
    "conn = sqlite3.connect('data_science.sqlite')\n",
    "cursor = conn.cursor()\n",
    "cursor.execute(\"INSERT INTO STUDENT101 (ID,NAME,AGE,ADDRESS,MARKS) \\\n",
    "      VALUES (101, 'Ashwin', 20, 'Delhi', 98)\");\n",
    "cursor.execute(\"INSERT INTO STUDENT101 (ID,NAME,AGE,ADDRESS,MARKS) \\\n",
    "      VALUES (102, 'Megha', 19, 'Chennai', 96 )\");\n",
    "cursor.execute(\"INSERT INTO STUDENT101 (ID,NAME,AGE,ADDRESS,MARKS) \\\n",
    "      VALUES (103, 'Shashank', 19, 'Hyderabad', 97 )\");\n",
    "cursor.execute(\"INSERT INTO STUDENT101 (ID,NAME,AGE,ADDRESS,MARKS) \\\n",
    "      VALUES (104, 'Prem', 20, 'Bangalore', 99)\");\n",
    "conn.commit()\n",
    "conn.close()"
   ]
  },
  {
   "cell_type": "code",
   "execution_count": 8,
   "metadata": {},
   "outputs": [
    {
     "name": "stdout",
     "output_type": "stream",
     "text": [
      "    ID      NAME  AGE    ADDRESS  MARKS\n",
      "0  101    Ashwin   20      Delhi     98\n",
      "1  102     Megha   19    Chennai     96\n",
      "2  103  Shashank   19  Hyderabad     97\n",
      "3  104      Prem   20  Bangalore     99\n"
     ]
    }
   ],
   "source": [
    "import pandas as pd\n",
    "import sqlite3\n",
    "\n",
    "conn = sqlite3.connect(\"data_science.sqlite\")\n",
    "df = pd.read_sql_query(\"SELECT * from STUDENT101\", conn)\n",
    "\n",
    "# Verify that result of SQL query is stored in the dataframe\n",
    "print(df.head())\n",
    "\n",
    "conn.close()"
   ]
  },
  {
   "cell_type": "code",
   "execution_count": null,
   "metadata": {},
   "outputs": [],
   "source": []
  },
  {
   "cell_type": "code",
   "execution_count": null,
   "metadata": {},
   "outputs": [],
   "source": []
  },
  {
   "cell_type": "code",
   "execution_count": null,
   "metadata": {},
   "outputs": [],
   "source": []
  },
  {
   "cell_type": "code",
   "execution_count": 9,
   "metadata": {},
   "outputs": [
    {
     "name": "stdout",
     "output_type": "stream",
     "text": [
      "ID =  101\n",
      "NAME =  Ashwin\n",
      "AGE =  20\n",
      "ADDRESS =  Delhi\n",
      "MARKS =  98 \n",
      "\n",
      "ID =  102\n",
      "NAME =  Megha\n",
      "AGE =  19\n",
      "ADDRESS =  Chennai\n",
      "MARKS =  96 \n",
      "\n",
      "ID =  103\n",
      "NAME =  Shashank\n",
      "AGE =  19\n",
      "ADDRESS =  Hyderabad\n",
      "MARKS =  97 \n",
      "\n",
      "ID =  104\n",
      "NAME =  Prem\n",
      "AGE =  20\n",
      "ADDRESS =  Bangalore\n",
      "MARKS =  99 \n",
      "\n"
     ]
    }
   ],
   "source": [
    "#SELECTING all the records from the TABLE\n",
    "conn = sqlite3.connect('data_science.sqlite')\n",
    "cursor = conn.cursor()\n",
    "for row in cursor.execute(\"SELECT * from STUDENT101\"):\n",
    "    print(\"ID = \", row[0])\n",
    "    print(\"NAME = \", row[1])\n",
    "    print(\"AGE = \", row[2])\n",
    "    print(\"ADDRESS = \", row[3])\n",
    "    print(\"MARKS = \", row[4], \"\\n\")\n",
    "conn.commit()\n",
    "conn.close()"
   ]
  },
  {
   "cell_type": "code",
   "execution_count": 10,
   "metadata": {},
   "outputs": [
    {
     "name": "stdout",
     "output_type": "stream",
     "text": [
      "ID =  101\n",
      "NAME =  Ashwin\n",
      "MARKS =  98 \n",
      "\n",
      "ID =  102\n",
      "NAME =  Megha\n",
      "MARKS =  96 \n",
      "\n",
      "ID =  103\n",
      "NAME =  Shashank\n",
      "MARKS =  97 \n",
      "\n",
      "ID =  104\n",
      "NAME =  Prem\n",
      "MARKS =  99 \n",
      "\n"
     ]
    }
   ],
   "source": [
    "#SELECTING specfic records from the TABLE\n",
    "\n",
    "conn = sqlite3.connect('data_science.sqlite')\n",
    "cursor = conn.cursor()\n",
    "for row in cursor.execute(\"SELECT id, name, marks from STUDENT101\"):\n",
    "    print(\"ID = \", row[0])\n",
    "    print(\"NAME = \", row[1])\n",
    "    print(\"MARKS = \", row[2], \"\\n\")\n",
    "conn.commit()\n",
    "conn.close()"
   ]
  },
  {
   "cell_type": "code",
   "execution_count": 12,
   "metadata": {},
   "outputs": [
    {
     "name": "stdout",
     "output_type": "stream",
     "text": [
      "ID =  101\n",
      "NAME =  Ashwin\n",
      "MARKS =  98 \n",
      "\n",
      "ID =  103\n",
      "NAME =  Shashank\n",
      "MARKS =  99 \n",
      "\n",
      "ID =  104\n",
      "NAME =  Prem\n",
      "MARKS =  99 \n",
      "\n"
     ]
    }
   ],
   "source": [
    "#UPDATING Records in the TABLE\n",
    "\n",
    "conn = sqlite3.connect('data_science.sqlite')\n",
    "cursor = conn.cursor()\n",
    "conn.execute(\"UPDATE STUDENT101 set MARKS = 99 where ID = 103\")\n",
    "conn.commit()\n",
    "for row in cursor.execute(\"SELECT id, name, marks from STUDENT5\"):\n",
    "    print(\"ID = \", row[0])\n",
    "    print(\"NAME = \", row[1])\n",
    "    print(\"MARKS = \", row[2], \"\\n\")\n",
    "conn.commit()\n",
    "conn.close()"
   ]
  },
  {
   "cell_type": "code",
   "execution_count": 14,
   "metadata": {},
   "outputs": [
    {
     "name": "stdout",
     "output_type": "stream",
     "text": [
      "ID =  101\n",
      "NAME =  Ashwin\n",
      "ADDRESS =  Delhi\n",
      "MARKS =  98 \n",
      "\n",
      "ID =  103\n",
      "NAME =  Shashank\n",
      "ADDRESS =  Hyderabad\n",
      "MARKS =  99 \n",
      "\n",
      "ID =  104\n",
      "NAME =  Prem\n",
      "ADDRESS =  Bangalore\n",
      "MARKS =  99 \n",
      "\n"
     ]
    }
   ],
   "source": [
    "#DELETE Operation\n",
    "\n",
    "conn = sqlite3.connect('data_science.sqlite')\n",
    "cursor = conn.cursor()\n",
    "conn.execute(\"DELETE from  STUDENT101 where ID = 102\")\n",
    "conn.commit()\n",
    "for row in cursor.execute(\"SELECT id, name, address, marks from STUDENT101\"):\n",
    "    print(\"ID = \", row[0])\n",
    "    print(\"NAME = \", row[1])\n",
    "    print(\"ADDRESS = \", row[2])   \n",
    "    print(\"MARKS = \", row[3], \"\\n\")\n",
    "conn.commit()\n",
    "conn.close()"
   ]
  },
  {
   "cell_type": "code",
   "execution_count": 21,
   "metadata": {},
   "outputs": [
    {
     "name": "stdout",
     "output_type": "stream",
     "text": [
      "    ID      NAME  AGE    ADDRESS  MARKS\n",
      "0  101    Ashwin   20      Delhi     98\n",
      "1  102     Megha   19    Chennai     96\n",
      "2  103  Shashank   19  Hyderabad     99\n",
      "3  104      Prem   20  Bangalore     99\n"
     ]
    }
   ],
   "source": [
    "import pandas as pd\n",
    "import sqlite3\n",
    "\n",
    "con = sqlite3.connect(\"data_science.sqlite\")\n",
    "df = pd.read_sql_query(\"SELECT * from STUDENT101\", con)\n",
    "\n",
    "# Verify that result of SQL query is stored in the dataframe\n",
    "print(df.head())\n",
    "\n",
    "con.close()"
   ]
  },
  {
   "cell_type": "code",
   "execution_count": null,
   "metadata": {},
   "outputs": [],
   "source": []
  },
  {
   "cell_type": "code",
   "execution_count": null,
   "metadata": {},
   "outputs": [],
   "source": []
  },
  {
   "cell_type": "code",
   "execution_count": 6,
   "metadata": {},
   "outputs": [],
   "source": [
    "import sqlite3\n",
    "import pandas as pd\n",
    "import numpy as np\n",
    "import seaborn as sns\n",
    "import matplotlib.pyplot as plt\n",
    "%matplotlib inline"
   ]
  },
  {
   "cell_type": "code",
   "execution_count": 7,
   "metadata": {},
   "outputs": [],
   "source": [
    "#Accessing the Database with the sqlite3 Package\n",
    "# Creating the connection to database\n",
    "con = sqlite3.connect('soccer.sqlite')\n",
    "cursor = con.cursor()"
   ]
  },
  {
   "cell_type": "code",
   "execution_count": null,
   "metadata": {},
   "outputs": [],
   "source": []
  }
 ],
 "metadata": {
  "kernelspec": {
   "display_name": "Python 3.10.7 64-bit",
   "language": "python",
   "name": "python3"
  },
  "language_info": {
   "codemirror_mode": {
    "name": "ipython",
    "version": 3
   },
   "file_extension": ".py",
   "mimetype": "text/x-python",
   "name": "python",
   "nbconvert_exporter": "python",
   "pygments_lexer": "ipython3",
   "version": "3.10.7"
  },
  "vscode": {
   "interpreter": {
    "hash": "aee8b7b246df8f9039afb4144a1f6fd8d2ca17a180786b69acc140d282b71a49"
   }
  }
 },
 "nbformat": 4,
 "nbformat_minor": 2
}
